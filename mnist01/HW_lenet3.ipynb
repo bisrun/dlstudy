{
 "cells": [
  {
   "cell_type": "code",
   "execution_count": 27,
   "outputs": [
    {
     "name": "stdout",
     "output_type": "stream",
     "text": [
      "step1\n"
     ]
    }
   ],
   "source": [
    "import torch\n",
    "import torchvision.datasets as dsets\n",
    "import torchvision.transforms as transforms\n",
    "import torch.nn.init\n",
    "\n",
    "device = 'cuda' if torch.cuda.is_available() else 'cpu'\n",
    "torch.manual_seed(777)\n",
    "if device =='cuda':\n",
    "    torch.cuda.manual_seed_all(777)\n",
    "\n",
    "\n",
    "training_epochs = 10\n",
    "batch_size = 100\n",
    "\n",
    "#dataloader\n",
    "mnist_train = dsets.MNIST(root = 'MNIST_data/',\n",
    "                          train = True,\n",
    "                          transform = transforms.ToTensor(),\n",
    "                          download=True)\n",
    "mnist_test = dsets.MNIST(root = 'MNIST_data/',\n",
    "                          train = False,\n",
    "                          transform = transforms.ToTensor(),\n",
    "                          download=True)\n",
    "\n",
    "data_loader = torch.utils.data.DataLoader(dataset = mnist_train,\n",
    "                                          batch_size =batch_size,\n",
    "                                          shuffle = True,\n",
    "                                          drop_last = True)\n",
    "\n",
    "print(\"step1\")"
   ],
   "metadata": {
    "collapsed": false,
    "pycharm": {
     "name": "#%%\n"
    }
   }
  },
  {
   "cell_type": "code",
   "execution_count": 28,
   "outputs": [
    {
     "name": "stdout",
     "output_type": "stream",
     "text": [
      "step2\n"
     ]
    }
   ],
   "source": [
    "class CNN_parameter():\n",
    "    def __init__(self, fn_pool, fn_fcinit, fn_act, lr, casename ):\n",
    "        self.fn_pool = fn_pool\n",
    "        self.fn_fcinit= fn_fcinit\n",
    "        self.fn_act = fn_act\n",
    "        self.lr = lr\n",
    "        self.paramter_name = casename\n",
    "\n",
    "\n",
    "\n",
    "class CNN(torch.nn.Module):\n",
    "    def __init__(self, nn_param:CNN_parameter ):\n",
    "        super(CNN,self).__init__()\n",
    "        self.keep_prob = 0.5\n",
    "        #L1 image in shape = (?,28,28,1)\n",
    "        #    conv -> (?, 28, 28, 6)\n",
    "        #    pool -> (?, 14, 14, 6)\n",
    "        self.layer1 = torch.nn.Sequential(\n",
    "            torch.nn.Conv2d(1, 6, kernel_size=5, stride=1, padding=2),\n",
    "            nn_param.fn_act(),\n",
    "            nn_param.fn_pool(kernel_size=2,stride=2)\n",
    "        )\n",
    "\n",
    "        #L2 image in shape = (?, 14,14,6)\n",
    "        #   conv -> (?,10,10,16)\n",
    "        #   pool -> (?,5,5,16)\n",
    "        self.layer2 = torch.nn.Sequential(\n",
    "            torch.nn.Conv2d(6, 16 , kernel_size=5 ,stride=1, padding=0),\n",
    "            nn_param.fn_act(),\n",
    "            nn_param.fn_pool(kernel_size=2,stride=2)\n",
    "        )\n",
    "\n",
    "        #Fully connected Layer 5*5*16\n",
    "        self.fc1 = torch.nn.Linear(5*5*16, 120, bias=True)\n",
    "        nn_param.fn_fcinit(self.fc1.weight)\n",
    "\n",
    "        self.layer3 = torch.nn.Sequential(\n",
    "            self.fc1,\n",
    "            nn_param.fn_act()\n",
    "            #,torch.nn.Dropout(p=1-self.keep_prob)\n",
    "        )\n",
    "        #Fully connected Layer 120->84\n",
    "        self.fc2 = torch.nn.Linear(120, 84, bias=True)\n",
    "        nn_param.fn_fcinit(self.fc2.weight)\n",
    "        self.layer4 = torch.nn.Sequential(\n",
    "            self.fc2,\n",
    "            nn_param.fn_act()\n",
    "        )\n",
    "        self.fc3 = torch.nn.Linear(84, 10, bias=True)\n",
    "        nn_param.fn_fcinit(self.fc3.weight)\n",
    "\n",
    "    def forward(self,x):\n",
    "        out = self.layer1(x)\n",
    "        out = self.layer2(out)\n",
    "        out = out.view(out.size(0), -1)\n",
    "        out = self.layer3(out)\n",
    "        out = self.layer4(out)\n",
    "        out = self.fc3(out)\n",
    "        return out\n",
    "\n",
    "\n",
    "print(\"step2\")"
   ],
   "metadata": {
    "collapsed": false,
    "pycharm": {
     "name": "#%%\n"
    }
   }
  },
  {
   "cell_type": "code",
   "execution_count": 34,
   "outputs": [
    {
     "name": "stdout",
     "output_type": "stream",
     "text": [
      "step3\n"
     ]
    }
   ],
   "source": [
    "net_params = []\n",
    "net_params.append(CNN_parameter(torch.nn.MaxPool2d,\n",
    "                                torch.nn.init.xavier_uniform,\n",
    "                                torch.nn.ReLU,\n",
    "                                0.001,\n",
    "                                \"[pool=max][init=xavier][act=relu][lr=0.001]\" ))\n",
    "net_params.append(CNN_parameter(torch.nn.AvgPool2d,\n",
    "                                torch.nn.init.xavier_uniform,\n",
    "                                torch.nn.ReLU,\n",
    "                                0.001,\n",
    "                                \"[pool=avg][init=xavier][act=relu][lr=0.001]\" ))\n",
    "\n",
    "#----\n",
    "net_params.append(CNN_parameter(torch.nn.MaxPool2d,\n",
    "                                torch.nn.init.xavier_uniform,\n",
    "                                torch.nn.ReLU,\n",
    "                                0.001,\n",
    "                                \"[pool=max][init=xavier][act=relu][lr=0.001]\" ))\n",
    "net_params.append(CNN_parameter(torch.nn.MaxPool2d,\n",
    "                                torch.nn.init.uniform_,\n",
    "                                torch.nn.ReLU,\n",
    "                                0.001,\n",
    "                                \"[pool=max][init=uniform][act=relu][lr=0.001]\" ))\n",
    "net_params.append(CNN_parameter(torch.nn.MaxPool2d,\n",
    "                                torch.nn.init.kaiming_uniform_,\n",
    "                                torch.nn.ReLU,\n",
    "                                0.001,\n",
    "                                \"[pool=max][init=kaiming][act=relu][lr=0.001]\" ))\n",
    "#----\n",
    "\n",
    "net_params.append(CNN_parameter(torch.nn.MaxPool2d,\n",
    "                                torch.nn.init.xavier_uniform,\n",
    "                                torch.nn.ReLU,\n",
    "                                0.001,\n",
    "                                \"[pool=max][init=xavier][act=relu][lr=0.001]\" ))\n",
    "net_params.append(CNN_parameter(torch.nn.MaxPool2d,\n",
    "                                torch.nn.init.xavier_uniform,\n",
    "                                torch.nn.Tanh,\n",
    "                                0.001,\n",
    "                                \"[pool=max][init=xavier][act=Tanh][lr=0.001]\" ))\n",
    "net_params.append(CNN_parameter(torch.nn.MaxPool2d,\n",
    "                                torch.nn.init.xavier_uniform,\n",
    "                                torch.nn.LeakyReLU,\n",
    "                                0.001,\n",
    "                                \"[pool=max][init=xavier][act=LeakyReLU][lr=0.001]\" ))\n",
    "net_params.append(CNN_parameter(torch.nn.MaxPool2d,\n",
    "                                torch.nn.init.xavier_uniform,\n",
    "                                torch.nn.LeakyReLU,\n",
    "                                0.001,\n",
    "                                \"[pool=max][init=xavier][act=Sigmoid][lr=0.001]\" ))\n",
    "\n",
    "#---\n",
    "net_params.append(CNN_parameter(torch.nn.MaxPool2d,\n",
    "                                torch.nn.init.xavier_uniform,\n",
    "                                torch.nn.ReLU,\n",
    "                                0.01,\n",
    "                                \"[pool=max][init=xavier][act=relu][lr=0.01]\" ))\n",
    "net_params.append(CNN_parameter(torch.nn.MaxPool2d,\n",
    "                                torch.nn.init.xavier_uniform,\n",
    "                                torch.nn.ReLU,\n",
    "                                0.005,\n",
    "                                \"[pool=max][init=xavier][act=relu][lr=0.005]\" ))\n",
    "\n",
    "net_params.append(CNN_parameter(torch.nn.MaxPool2d,\n",
    "                                torch.nn.init.xavier_uniform,\n",
    "                                torch.nn.ReLU,\n",
    "                                0.0001,\n",
    "                                \"[pool=max][init=xavier][act=relu][lr=0.0001]\" ))\n",
    "net_params.append(CNN_parameter(torch.nn.MaxPool2d,\n",
    "                                torch.nn.init.xavier_uniform,\n",
    "                                torch.nn.ReLU,\n",
    "                                0.0005,\n",
    "                                \"[pool=max][init=xavier][act=relu][lr=0.0005]\" ))\n",
    "\n",
    "print(\"step3\")"
   ],
   "metadata": {
    "collapsed": false,
    "pycharm": {
     "name": "#%%\n"
    }
   }
  },
  {
   "cell_type": "code",
   "execution_count": 33,
   "outputs": [
    {
     "name": "stdout",
     "output_type": "stream",
     "text": [
      "0 [pool:max][init:xavier][act:relu][lr:0.001]\n",
      "total batch   600\n"
     ]
    },
    {
     "name": "stderr",
     "output_type": "stream",
     "text": [
      "C:\\Users\\Public\\Documents\\ESTsoft\\CreatorTemp/ipykernel_4312/2611380333.py:35: UserWarning: nn.init.xavier_uniform is now deprecated in favor of nn.init.xavier_uniform_.\n",
      "  nn_param.fn_fcinit(self.fc1.weight)\n",
      "C:\\Users\\Public\\Documents\\ESTsoft\\CreatorTemp/ipykernel_4312/2611380333.py:44: UserWarning: nn.init.xavier_uniform is now deprecated in favor of nn.init.xavier_uniform_.\n",
      "  nn_param.fn_fcinit(self.fc2.weight)\n",
      "C:\\Users\\Public\\Documents\\ESTsoft\\CreatorTemp/ipykernel_4312/2611380333.py:50: UserWarning: nn.init.xavier_uniform is now deprecated in favor of nn.init.xavier_uniform_.\n",
      "  nn_param.fn_fcinit(self.fc3.weight)\n"
     ]
    },
    {
     "name": "stdout",
     "output_type": "stream",
     "text": [
      "epoch=   1\tcost=0.287205845\taccuracy=91.258338928\ttrue=54755.0\n",
      "epoch=   2\tcost=0.073540345\taccuracy=97.636665344\ttrue=58582.0\n",
      "epoch=   3\tcost=0.053582806\taccuracy=98.333335876\ttrue=59000.0\n",
      "epoch=   4\tcost=0.042736679\taccuracy=98.660003662\ttrue=59196.0\n",
      "epoch=   5\tcost=0.033939850\taccuracy=98.923332214\ttrue=59354.0\n",
      "epoch=   6\tcost=0.029387919\taccuracy=99.051666260\ttrue=59431.0\n",
      "epoch=   7\tcost=0.024364755\taccuracy=99.241668701\ttrue=59545.0\n",
      "epoch=   8\tcost=0.022274848\taccuracy=99.273338318\ttrue=59564.0\n",
      "epoch=   9\tcost=0.018105598\taccuracy=99.406669617\ttrue=59644.0\n",
      "epoch=  10\tcost=0.015726255\taccuracy=99.488334656\ttrue=59693.0\n"
     ]
    },
    {
     "ename": "OSError",
     "evalue": "[Errno 22] Invalid argument: 'model/[pool:max][init:xavier][act:relu][lr:0.001].m'",
     "output_type": "error",
     "traceback": [
      "\u001B[1;31m---------------------------------------------------------------------------\u001B[0m",
      "\u001B[1;31mOSError\u001B[0m                                   Traceback (most recent call last)",
      "\u001B[1;32mC:\\Users\\Public\\Documents\\ESTsoft\\CreatorTemp/ipykernel_4312/1518671960.py\u001B[0m in \u001B[0;36m<module>\u001B[1;34m\u001B[0m\n\u001B[0;32m     33\u001B[0m \u001B[1;33m\u001B[0m\u001B[0m\n\u001B[0;32m     34\u001B[0m \u001B[1;31m#start training\u001B[0m\u001B[1;33m\u001B[0m\u001B[1;33m\u001B[0m\u001B[1;33m\u001B[0m\u001B[0m\n\u001B[1;32m---> 35\u001B[1;33m \u001B[0mtraining_loop\u001B[0m\u001B[1;33m(\u001B[0m\u001B[1;33m)\u001B[0m\u001B[1;33m\u001B[0m\u001B[1;33m\u001B[0m\u001B[0m\n\u001B[0m\u001B[0;32m     36\u001B[0m \u001B[1;33m\u001B[0m\u001B[0m\n",
      "\u001B[1;32mC:\\Users\\Public\\Documents\\ESTsoft\\CreatorTemp/ipykernel_4312/1518671960.py\u001B[0m in \u001B[0;36mtraining_loop\u001B[1;34m()\u001B[0m\n\u001B[0;32m     30\u001B[0m                 epoch+1, avg_cost, true_count/total_batch, true_count))\n\u001B[0;32m     31\u001B[0m         \u001B[0mmodel_filepath\u001B[0m\u001B[1;33m=\u001B[0m\u001B[1;34m\"model/{}.m\"\u001B[0m\u001B[1;33m.\u001B[0m\u001B[0mformat\u001B[0m\u001B[1;33m(\u001B[0m\u001B[0mnp\u001B[0m\u001B[1;33m.\u001B[0m\u001B[0mparamter_name\u001B[0m\u001B[1;33m)\u001B[0m\u001B[1;33m\u001B[0m\u001B[1;33m\u001B[0m\u001B[0m\n\u001B[1;32m---> 32\u001B[1;33m         \u001B[0mtorch\u001B[0m\u001B[1;33m.\u001B[0m\u001B[0msave\u001B[0m\u001B[1;33m(\u001B[0m\u001B[0mmodel\u001B[0m\u001B[1;33m,\u001B[0m \u001B[0mmodel_filepath\u001B[0m\u001B[1;33m)\u001B[0m\u001B[1;33m\u001B[0m\u001B[1;33m\u001B[0m\u001B[0m\n\u001B[0m\u001B[0;32m     33\u001B[0m \u001B[1;33m\u001B[0m\u001B[0m\n\u001B[0;32m     34\u001B[0m \u001B[1;31m#start training\u001B[0m\u001B[1;33m\u001B[0m\u001B[1;33m\u001B[0m\u001B[1;33m\u001B[0m\u001B[0m\n",
      "\u001B[1;32mC:\\anaconda3\\envs\\pytorch04\\lib\\site-packages\\torch\\serialization.py\u001B[0m in \u001B[0;36msave\u001B[1;34m(obj, f, pickle_module, pickle_protocol, _use_new_zipfile_serialization)\u001B[0m\n\u001B[0;32m    367\u001B[0m     \u001B[0m_check_dill_version\u001B[0m\u001B[1;33m(\u001B[0m\u001B[0mpickle_module\u001B[0m\u001B[1;33m)\u001B[0m\u001B[1;33m\u001B[0m\u001B[1;33m\u001B[0m\u001B[0m\n\u001B[0;32m    368\u001B[0m \u001B[1;33m\u001B[0m\u001B[0m\n\u001B[1;32m--> 369\u001B[1;33m     \u001B[1;32mwith\u001B[0m \u001B[0m_open_file_like\u001B[0m\u001B[1;33m(\u001B[0m\u001B[0mf\u001B[0m\u001B[1;33m,\u001B[0m \u001B[1;34m'wb'\u001B[0m\u001B[1;33m)\u001B[0m \u001B[1;32mas\u001B[0m \u001B[0mopened_file\u001B[0m\u001B[1;33m:\u001B[0m\u001B[1;33m\u001B[0m\u001B[1;33m\u001B[0m\u001B[0m\n\u001B[0m\u001B[0;32m    370\u001B[0m         \u001B[1;32mif\u001B[0m \u001B[0m_use_new_zipfile_serialization\u001B[0m\u001B[1;33m:\u001B[0m\u001B[1;33m\u001B[0m\u001B[1;33m\u001B[0m\u001B[0m\n\u001B[0;32m    371\u001B[0m             \u001B[1;32mwith\u001B[0m \u001B[0m_open_zipfile_writer\u001B[0m\u001B[1;33m(\u001B[0m\u001B[0mopened_file\u001B[0m\u001B[1;33m)\u001B[0m \u001B[1;32mas\u001B[0m \u001B[0mopened_zipfile\u001B[0m\u001B[1;33m:\u001B[0m\u001B[1;33m\u001B[0m\u001B[1;33m\u001B[0m\u001B[0m\n",
      "\u001B[1;32mC:\\anaconda3\\envs\\pytorch04\\lib\\site-packages\\torch\\serialization.py\u001B[0m in \u001B[0;36m_open_file_like\u001B[1;34m(name_or_buffer, mode)\u001B[0m\n\u001B[0;32m    228\u001B[0m \u001B[1;32mdef\u001B[0m \u001B[0m_open_file_like\u001B[0m\u001B[1;33m(\u001B[0m\u001B[0mname_or_buffer\u001B[0m\u001B[1;33m,\u001B[0m \u001B[0mmode\u001B[0m\u001B[1;33m)\u001B[0m\u001B[1;33m:\u001B[0m\u001B[1;33m\u001B[0m\u001B[1;33m\u001B[0m\u001B[0m\n\u001B[0;32m    229\u001B[0m     \u001B[1;32mif\u001B[0m \u001B[0m_is_path\u001B[0m\u001B[1;33m(\u001B[0m\u001B[0mname_or_buffer\u001B[0m\u001B[1;33m)\u001B[0m\u001B[1;33m:\u001B[0m\u001B[1;33m\u001B[0m\u001B[1;33m\u001B[0m\u001B[0m\n\u001B[1;32m--> 230\u001B[1;33m         \u001B[1;32mreturn\u001B[0m \u001B[0m_open_file\u001B[0m\u001B[1;33m(\u001B[0m\u001B[0mname_or_buffer\u001B[0m\u001B[1;33m,\u001B[0m \u001B[0mmode\u001B[0m\u001B[1;33m)\u001B[0m\u001B[1;33m\u001B[0m\u001B[1;33m\u001B[0m\u001B[0m\n\u001B[0m\u001B[0;32m    231\u001B[0m     \u001B[1;32melse\u001B[0m\u001B[1;33m:\u001B[0m\u001B[1;33m\u001B[0m\u001B[1;33m\u001B[0m\u001B[0m\n\u001B[0;32m    232\u001B[0m         \u001B[1;32mif\u001B[0m \u001B[1;34m'w'\u001B[0m \u001B[1;32min\u001B[0m \u001B[0mmode\u001B[0m\u001B[1;33m:\u001B[0m\u001B[1;33m\u001B[0m\u001B[1;33m\u001B[0m\u001B[0m\n",
      "\u001B[1;32mC:\\anaconda3\\envs\\pytorch04\\lib\\site-packages\\torch\\serialization.py\u001B[0m in \u001B[0;36m__init__\u001B[1;34m(self, name, mode)\u001B[0m\n\u001B[0;32m    209\u001B[0m \u001B[1;32mclass\u001B[0m \u001B[0m_open_file\u001B[0m\u001B[1;33m(\u001B[0m\u001B[0m_opener\u001B[0m\u001B[1;33m)\u001B[0m\u001B[1;33m:\u001B[0m\u001B[1;33m\u001B[0m\u001B[1;33m\u001B[0m\u001B[0m\n\u001B[0;32m    210\u001B[0m     \u001B[1;32mdef\u001B[0m \u001B[0m__init__\u001B[0m\u001B[1;33m(\u001B[0m\u001B[0mself\u001B[0m\u001B[1;33m,\u001B[0m \u001B[0mname\u001B[0m\u001B[1;33m,\u001B[0m \u001B[0mmode\u001B[0m\u001B[1;33m)\u001B[0m\u001B[1;33m:\u001B[0m\u001B[1;33m\u001B[0m\u001B[1;33m\u001B[0m\u001B[0m\n\u001B[1;32m--> 211\u001B[1;33m         \u001B[0msuper\u001B[0m\u001B[1;33m(\u001B[0m\u001B[0m_open_file\u001B[0m\u001B[1;33m,\u001B[0m \u001B[0mself\u001B[0m\u001B[1;33m)\u001B[0m\u001B[1;33m.\u001B[0m\u001B[0m__init__\u001B[0m\u001B[1;33m(\u001B[0m\u001B[0mopen\u001B[0m\u001B[1;33m(\u001B[0m\u001B[0mname\u001B[0m\u001B[1;33m,\u001B[0m \u001B[0mmode\u001B[0m\u001B[1;33m)\u001B[0m\u001B[1;33m)\u001B[0m\u001B[1;33m\u001B[0m\u001B[1;33m\u001B[0m\u001B[0m\n\u001B[0m\u001B[0;32m    212\u001B[0m \u001B[1;33m\u001B[0m\u001B[0m\n\u001B[0;32m    213\u001B[0m     \u001B[1;32mdef\u001B[0m \u001B[0m__exit__\u001B[0m\u001B[1;33m(\u001B[0m\u001B[0mself\u001B[0m\u001B[1;33m,\u001B[0m \u001B[1;33m*\u001B[0m\u001B[0margs\u001B[0m\u001B[1;33m)\u001B[0m\u001B[1;33m:\u001B[0m\u001B[1;33m\u001B[0m\u001B[1;33m\u001B[0m\u001B[0m\n",
      "\u001B[1;31mOSError\u001B[0m: [Errno 22] Invalid argument: 'model/[pool:max][init:xavier][act:relu][lr:0.001].m'"
     ]
    }
   ],
   "source": [
    "#training\n",
    "def training_loop():\n",
    "    for i, np in enumerate(net_params):\n",
    "        print(i, np.paramter_name)\n",
    "        model = CNN(np).to(device)\n",
    "        criterion = torch.nn.CrossEntropyLoss().to(device)\n",
    "        optimizer = torch.optim.Adam(model.parameters(), lr=np.lr)\n",
    "        total_batch = len(data_loader)\n",
    "        print(\"total batch  \", total_batch)\n",
    "\n",
    "        for epoch in range(training_epochs):\n",
    "            avg_cost = 0\n",
    "            true_count = 0\n",
    "\n",
    "            for X, Y in data_loader:\n",
    "                X=X.to(device)\n",
    "                Y=Y.to(device)\n",
    "\n",
    "                optimizer.zero_grad()\n",
    "                hypothesys = model(X)\n",
    "                cost = criterion(hypothesys, Y)\n",
    "                cost.backward()\n",
    "                optimizer.step()\n",
    "                correct_prediction = torch.argmax(hypothesys, dim = 1) ==Y\n",
    "                true_count += correct_prediction.float().sum()\n",
    "\n",
    "                avg_cost += cost / total_batch\n",
    "\n",
    "            print(\"epoch={:>4}\\tcost={:>.9f}\\taccuracy={:>.9f}\\ttrue={}\".format(\n",
    "                epoch+1, avg_cost, true_count/total_batch, true_count))\n",
    "        model_filepath=\"model/m{}.m\".format(np.paramter_name)\n",
    "        torch.save(model, model_filepath)\n",
    "\n",
    "#start training\n",
    "training_loop()"
   ],
   "metadata": {
    "collapsed": false,
    "pycharm": {
     "name": "#%%\n"
    }
   }
  },
  {
   "cell_type": "code",
   "execution_count": 32,
   "outputs": [
    {
     "name": "stderr",
     "output_type": "stream",
     "text": [
      "C:\\Users\\Public\\Documents\\ESTsoft\\CreatorTemp/ipykernel_4312/2611380333.py:35: UserWarning: nn.init.xavier_uniform is now deprecated in favor of nn.init.xavier_uniform_.\n",
      "  nn_param.fn_fcinit(self.fc1.weight)\n",
      "C:\\Users\\Public\\Documents\\ESTsoft\\CreatorTemp/ipykernel_4312/2611380333.py:44: UserWarning: nn.init.xavier_uniform is now deprecated in favor of nn.init.xavier_uniform_.\n",
      "  nn_param.fn_fcinit(self.fc2.weight)\n",
      "C:\\Users\\Public\\Documents\\ESTsoft\\CreatorTemp/ipykernel_4312/2611380333.py:50: UserWarning: nn.init.xavier_uniform is now deprecated in favor of nn.init.xavier_uniform_.\n",
      "  nn_param.fn_fcinit(self.fc3.weight)\n"
     ]
    },
    {
     "name": "stdout",
     "output_type": "stream",
     "text": [
      "total batch   600\n",
      "epoch    1 cost=0.261725068 accuracy=92.381668091, true=55429.0\n",
      "epoch    2 cost=0.074790083 accuracy=97.738334656, true=58643.0\n",
      "epoch    3 cost=0.052710231 accuracy=98.388336182, true=59033.0\n",
      "epoch    4 cost=0.041331772 accuracy=98.675003052, true=59205.0\n",
      "epoch    5 cost=0.034378603 accuracy=98.913337708, true=59348.0\n",
      "epoch    6 cost=0.027926546 accuracy=99.116668701, true=59470.0\n",
      "epoch    7 cost=0.023650762 accuracy=99.251670837, true=59551.0\n",
      "epoch    8 cost=0.021774780 accuracy=99.268333435, true=59561.0\n",
      "epoch    9 cost=0.017758185 accuracy=99.404998779, true=59643.0\n",
      "epoch   10 cost=0.015697945 accuracy=99.495002747, true=59697.0\n"
     ]
    }
   ],
   "source": [
    "#test\n",
    "model = CNN(net_params[0]).to(device)\n",
    "\n",
    "criterion = torch.nn.CrossEntropyLoss().to(device)\n",
    "optimizer = torch.optim.Adam(model.parameters(), lr=net_params[0].lr)\n",
    "\n",
    "total_batch = len(data_loader)\n",
    "print(\"total batch  \", total_batch)\n",
    "\n",
    "\n",
    "for epoch in range(training_epochs):\n",
    "    avg_cost = 0\n",
    "    true_count = 0\n",
    "\n",
    "    for X, Y in data_loader:\n",
    "        X=X.to(device)\n",
    "        Y=Y.to(device)\n",
    "\n",
    "        optimizer.zero_grad()\n",
    "        hypothesys = model(X)\n",
    "        cost = criterion(hypothesys, Y)\n",
    "        cost.backward()\n",
    "        optimizer.step()\n",
    "        correct_prediction = torch.argmax(hypothesys, dim = 1) ==Y\n",
    "        true_count += correct_prediction.float().sum()\n",
    "\n",
    "        avg_cost += cost / total_batch\n",
    "\n",
    "    print(\"epoch {:>4} cost={:>.9f} accuracy={:>.9f}, true={}\".format(\n",
    "        epoch+1, avg_cost, true_count/total_batch, true_count))\n",
    "\n",
    "#torch.save(model, \"model/model_epoch20.m\")"
   ],
   "metadata": {
    "collapsed": false,
    "pycharm": {
     "name": "#%%\n"
    }
   }
  },
  {
   "cell_type": "code",
   "execution_count": 26,
   "outputs": [
    {
     "name": "stdout",
     "output_type": "stream",
     "text": [
      "Accuracy :  0.9890999794006348\n",
      "1) Label=5, Prediction=5 \n"
     ]
    },
    {
     "name": "stderr",
     "output_type": "stream",
     "text": [
      "C:\\anaconda3\\envs\\pytorch04\\lib\\site-packages\\torchvision\\datasets\\mnist.py:63: UserWarning: test_data has been renamed data\n",
      "  warnings.warn(\"test_data has been renamed data\")\n",
      "C:\\anaconda3\\envs\\pytorch04\\lib\\site-packages\\torchvision\\datasets\\mnist.py:53: UserWarning: test_labels has been renamed targets\n",
      "  warnings.warn(\"test_labels has been renamed targets\")\n"
     ]
    },
    {
     "data": {
      "text/plain": "<Figure size 144x144 with 1 Axes>",
      "image/png": "[encoded data removed]"
     },
     "metadata": {
      "needs_background": "light"
     },
     "output_type": "display_data"
    },
    {
     "name": "stdout",
     "output_type": "stream",
     "text": [
      "2) Label=7, Prediction=7 \n"
     ]
    },
    {
     "data": {
      "text/plain": "<Figure size 144x144 with 1 Axes>",
      "image/png": "[encoded data removed]"
     },
     "metadata": {
      "needs_background": "light"
     },
     "output_type": "display_data"
    },
    {
     "name": "stdout",
     "output_type": "stream",
     "text": [
      "3) Label=8, Prediction=8 \n"
     ]
    },
    {
     "data": {
      "text/plain": "<Figure size 144x144 with 1 Axes>",
      "image/png": "[encoded data removed]"
     },
     "metadata": {
      "needs_background": "light"
     },
     "output_type": "display_data"
    },
    {
     "name": "stdout",
     "output_type": "stream",
     "text": [
      "4) Label=3, Prediction=3 \n"
     ]
    },
    {
     "data": {
      "text/plain": "<Figure size 144x144 with 1 Axes>",
      "image/png": "[encoded data removed]"
     },
     "metadata": {
      "needs_background": "light"
     },
     "output_type": "display_data"
    },
    {
     "name": "stdout",
     "output_type": "stream",
     "text": [
      "5) Label=3, Prediction=3 \n"
     ]
    },
    {
     "data": {
      "text/plain": "<Figure size 144x144 with 1 Axes>",
      "image/png": "[encoded data removed]"
     },
     "metadata": {
      "needs_background": "light"
     },
     "output_type": "display_data"
    },
    {
     "name": "stdout",
     "output_type": "stream",
     "text": [
      "160) Label=4, Prediction=8 \n"
     ]
    },
    {
     "data": {
      "text/plain": "<Figure size 144x144 with 1 Axes>",
      "image/png": "[encoded data removed]"
     },
     "metadata": {
      "needs_background": "light"
     },
     "output_type": "display_data"
    },
    {
     "name": "stdout",
     "output_type": "stream",
     "text": [
      "247) Label=4, Prediction=2 \n"
     ]
    },
    {
     "data": {
      "text/plain": "<Figure size 144x144 with 1 Axes>",
      "image/png": "[encoded data removed]"
     },
     "metadata": {
      "needs_background": "light"
     },
     "output_type": "display_data"
    },
    {
     "name": "stdout",
     "output_type": "stream",
     "text": [
      "321) Label=2, Prediction=7 \n"
     ]
    },
    {
     "data": {
      "text/plain": "<Figure size 144x144 with 1 Axes>",
      "image/png": "[encoded data removed]"
     },
     "metadata": {
      "needs_background": "light"
     },
     "output_type": "display_data"
    },
    {
     "name": "stdout",
     "output_type": "stream",
     "text": [
      "435) Label=8, Prediction=9 \n"
     ]
    },
    {
     "data": {
      "text/plain": "<Figure size 144x144 with 1 Axes>",
      "image/png": "[encoded data removed]"
     },
     "metadata": {
      "needs_background": "light"
     },
     "output_type": "display_data"
    },
    {
     "name": "stdout",
     "output_type": "stream",
     "text": [
      "445) Label=6, Prediction=0 \n"
     ]
    },
    {
     "data": {
      "text/plain": "<Figure size 144x144 with 1 Axes>",
      "image/png": "[encoded data removed]"
     },
     "metadata": {
      "needs_background": "light"
     },
     "output_type": "display_data"
    },
    {
     "name": "stdout",
     "output_type": "stream",
     "text": [
      "551) Label=7, Prediction=9 \n"
     ]
    },
    {
     "data": {
      "text/plain": "<Figure size 144x144 with 1 Axes>",
      "image/png": "[encoded data removed]"
     },
     "metadata": {
      "needs_background": "light"
     },
     "output_type": "display_data"
    },
    {
     "name": "stdout",
     "output_type": "stream",
     "text": [
      "582) Label=8, Prediction=2 \n"
     ]
    },
    {
     "data": {
      "text/plain": "<Figure size 144x144 with 1 Axes>",
      "image/png": "[encoded data removed]"
     },
     "metadata": {
      "needs_background": "light"
     },
     "output_type": "display_data"
    },
    {
     "name": "stdout",
     "output_type": "stream",
     "text": [
      "583) Label=2, Prediction=7 \n"
     ]
    },
    {
     "data": {
      "text/plain": "<Figure size 144x144 with 1 Axes>",
      "image/png": "[encoded data removed]"
     },
     "metadata": {
      "needs_background": "light"
     },
     "output_type": "display_data"
    },
    {
     "name": "stdout",
     "output_type": "stream",
     "text": [
      "625) Label=6, Prediction=4 \n"
     ]
    },
    {
     "data": {
      "text/plain": "<Figure size 144x144 with 1 Axes>",
      "image/png": "[encoded data removed]"
     },
     "metadata": {
      "needs_background": "light"
     },
     "output_type": "display_data"
    },
    {
     "name": "stdout",
     "output_type": "stream",
     "text": [
      "659) Label=2, Prediction=7 \n"
     ]
    },
    {
     "data": {
      "text/plain": "<Figure size 144x144 with 1 Axes>",
      "image/png": "[encoded data removed]"
     },
     "metadata": {
      "needs_background": "light"
     },
     "output_type": "display_data"
    }
   ],
   "source": [
    "import matplotlib.pyplot as plt\n",
    "import random\n",
    "model = torch.load( \"model/model_epoch20.m\")\n",
    "with torch.no_grad():\n",
    "    X_test = mnist_test.test_data.view(len(mnist_test), 1, 28, 28).float().to(device)\n",
    "    Y_test = mnist_test.test_labels.to(device)\n",
    "\n",
    "    prediction = model(X_test)\n",
    "    correct_prediction = torch.argmax(prediction, dim = 1) ==Y_test\n",
    "    accuracy = correct_prediction.float().mean()\n",
    "    print(\"Accuracy : \", accuracy.item())\n",
    "\n",
    "    for count in range(5):\n",
    "        #MNIST 테스트 데이터에서 무작위로 하나를 뽑아서 예측을 해본다\n",
    "        r = random.randint(0, len(mnist_test)- 1)\n",
    "        X_single_data = mnist_test.test_data[r:r+1].view(-1,1,28,28).float().to(device)\n",
    "        #print(X_single_data.dim())\n",
    "        Y_single_data = mnist_test.test_labels[r:r+1].to(device)\n",
    "        single_prediction = model(X_single_data)\n",
    "        print('{}) Label={}, Prediction={} '.format(count+1,\n",
    "            Y_single_data.item(), torch.argmax(single_prediction, dim=1).item()))\n",
    "        plt.figure(figsize = (2,2))\n",
    "        plt.imshow(mnist_test.test_data[r:r+1].view(28,28), cmap='Greys',interpolation='nearest')\n",
    "        plt.show()\n",
    "\n",
    "    fault_count =0\n",
    "    for i, f_item in enumerate(correct_prediction):\n",
    "        if not f_item and i < (len(mnist_test)- 2) and fault_count < 10:\n",
    "            X_data = mnist_test.test_data[i:i+1].view(-1,1,28,28).float().to(device)\n",
    "            Y_data = mnist_test.test_labels[i:i+1].to(device)\n",
    "            F_prediction = model(X_data)\n",
    "            fault_count += 1\n",
    "            print('{}) Label={}, Prediction={} '.format(i,\n",
    "                                       Y_data.item(), torch.argmax(F_prediction, dim=1).item()))\n",
    "            plt.figure(figsize = (2,2))\n",
    "            plt.imshow(mnist_test.test_data[i:i+1].view(28,28), cmap='Greys',interpolation='nearest')\n",
    "            plt.show()\n"
   ],
   "metadata": {
    "collapsed": false,
    "pycharm": {
     "name": "#%%\n"
    }
   }
  },
  {
   "cell_type": "code",
   "execution_count": 39,
   "outputs": [
    {
     "name": "stdout",
     "output_type": "stream",
     "text": [
      "4\n",
      "Label 4\n",
      "Prediction:  4\n"
     ]
    },
    {
     "data": {
      "text/plain": "<Figure size 432x288 with 1 Axes>",
      "image/png": "[encoded data removed]"
     },
     "metadata": {
      "needs_background": "light"
     },
     "output_type": "display_data"
    }
   ],
   "source": [
    "\n",
    "import matplotlib.pyplot as plt\n",
    "import random\n",
    "\n",
    "#MNIST 테스트 데이터에서 무작위로 하나를 뽑아서 예측을 해본다\n",
    "r = random.randint(0, len(mnist_test)- 1)\n",
    "X_single_data = mnist_test.test_data[r:r+1].view(-1,1,28,28).float().to(device)\n",
    "print(X_single_data.dim())\n",
    "Y_single_data = mnist_test.test_labels[r:r+1].to(device)\n",
    "\n",
    "print('Label', Y_single_data.item())\n",
    "single_prediction = model(X_single_data)\n",
    "print('Prediction: ', torch.argmax(single_prediction, 1).item())\n",
    "\n",
    "plt.imshow(mnist_test.test_data[r:r+1].view(28,28), cmap='Greys',interpolation='nearest')\n",
    "plt.show()"
   ],
   "metadata": {
    "collapsed": false,
    "pycharm": {
     "name": "#%%\n"
    }
   }
  }
 ],
 "metadata": {
  "kernelspec": {
   "name": "pycharm-8b08f4db",
   "language": "python",
   "display_name": "PyCharm (torch04)"
  },
  "language_info": {
   "codemirror_mode": {
    "name": "ipython",
    "version": 2
   },
   "file_extension": ".py",
   "mimetype": "text/x-python",
   "name": "python",
   "nbconvert_exporter": "python",
   "pygments_lexer": "ipython2",
   "version": "2.7.6"
  }
 },
 "nbformat": 4,
 "nbformat_minor": 0
}