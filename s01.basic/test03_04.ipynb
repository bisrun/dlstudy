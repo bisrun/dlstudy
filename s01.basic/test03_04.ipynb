{
 "cells": [
  {
   "cell_type": "code",
   "execution_count": 12,
   "metadata": {
    "collapsed": true
   },
   "outputs": [
    {
     "name": "stdout",
     "output_type": "stream",
     "text": [
      "[Parameter containing:\n",
      "tensor([[0.5153]], requires_grad=True), Parameter containing:\n",
      "tensor([-0.4414], requires_grad=True)]\n",
      "Epoch    0/2000 Cost: 13.103541 W:0.6714937686920166 b:-0.3731611967086792, Wg:-15.62305736541748 bg:-6.821703910827637\n",
      "Epoch  100/2000 Cost: 0.002791 W:1.9387836456298828 b:0.13913291692733765, Wg:-0.01486937329173088 bg:0.03347523882985115\n",
      "Epoch  200/2000 Cost: 0.001724 W:1.9518859386444092 b:0.10937460511922836, Wg:-0.01159445196390152 bg:0.026356063783168793\n",
      "Epoch  300/2000 Cost: 0.001066 W:1.9621779918670654 b:0.08597832173109055, Wg:-0.009113149717450142 bg:0.020718736574053764\n",
      "Epoch  400/2000 Cost: 0.000658 W:1.9702684879302979 b:0.06758669018745422, Wg:-0.007164159789681435 bg:0.016286691650748253\n",
      "Epoch  500/2000 Cost: 0.000407 W:1.976628303527832 b:0.053129345178604126, Wg:-0.005631130188703537 bg:0.012803077697753906\n",
      "Epoch  600/2000 Cost: 0.000251 W:1.9816277027130127 b:0.04176466912031174, Wg:-0.004426797851920128 bg:0.010064283385872841\n",
      "Epoch  700/2000 Cost: 0.000155 W:1.9855577945709229 b:0.03283071145415306, Wg:-0.0034797973930835724 bg:0.007911523804068565\n",
      "Epoch  800/2000 Cost: 0.000096 W:1.9886471033096313 b:0.025807829573750496, Wg:-0.0027356157079339027 bg:0.0062190694734454155\n",
      "Epoch  900/2000 Cost: 0.000059 W:1.9910755157470703 b:0.02028733864426613, Wg:-0.0021508531644940376 bg:0.0048885345458984375\n",
      "Epoch 1000/2000 Cost: 0.000037 W:1.992984652519226 b:0.015947652980685234, Wg:-0.0016900694463402033 bg:0.003843148937448859\n",
      "Epoch 1100/2000 Cost: 0.000023 W:1.9944851398468018 b:0.01253639254719019, Wg:-0.001329104183241725 bg:0.0030209224205464125\n",
      "Epoch 1200/2000 Cost: 0.000014 W:1.9956648349761963 b:0.009854799136519432, Wg:-0.0010444323997944593 bg:0.002374808071181178\n",
      "Epoch 1300/2000 Cost: 0.000009 W:1.9965921640396118 b:0.0077467914670705795, Wg:-0.0008219082374125719 bg:0.0018664996605366468\n",
      "Epoch 1400/2000 Cost: 0.000005 W:1.9973210096359253 b:0.006089805159717798, Wg:-0.0006454786052927375 bg:0.001467545866034925\n",
      "Epoch 1500/2000 Cost: 0.000003 W:1.9978941679000854 b:0.004787227604538202, Wg:-0.0005068780155852437 bg:0.0011537870159372687\n",
      "Epoch 1600/2000 Cost: 0.000002 W:1.9983445405960083 b:0.003763429820537567, Wg:-0.0003995896549895406 bg:0.0009066263446584344\n",
      "Epoch 1700/2000 Cost: 0.000001 W:1.998698353767395 b:0.0029586555901914835, Wg:-0.0003145535010844469 bg:0.0007125537376850843\n",
      "Epoch 1800/2000 Cost: 0.000001 W:1.9989765882492065 b:0.002326256362721324, Wg:-0.00024763750843703747 bg:0.0005601246375590563\n",
      "Epoch 1900/2000 Cost: 0.000000 W:1.9991952180862427 b:0.0018290627049282193, Wg:-0.00019470846746116877 bg:0.00044043862726539373\n",
      "Epoch 2000/2000 Cost: 0.000000 W:1.999367117881775 b:0.001438319799490273, Wg:-0.00015417736722156405 bg:0.0003458659048192203\n"
     ]
    }
   ],
   "source": [
    "import torch\n",
    "import torch.nn as nn\n",
    "import torch.nn.functional as F\n",
    "\n",
    "torch.manual_seed(1)\n",
    "# 데이터\n",
    "x_train = torch.FloatTensor([[1], [2], [3]])\n",
    "y_train = torch.FloatTensor([[2], [4], [6]])\n",
    "\n",
    "# 모델을 선언 및 초기화. 단순 선형 회귀이므로 input_dim=1, output_dim=1.\n",
    "model = nn.Linear(1)\n",
    "\n",
    "print(list(model.parameters()))\n",
    "\n",
    "# optimizer 설정. 경사 하강법 SGD를 사용하고 learning rate를 의미하는 lr은 0.01\n",
    "optimizer = torch.optim.SGD(model.parameters(), lr=0.01)\n",
    "\n",
    "# 전체 훈련 데이터에 대해 경사 하강법을 2,000회 반복\n",
    "nb_epochs = 2000\n",
    "for epoch in range(nb_epochs+1):\n",
    "\n",
    "    # H(x) 계산\n",
    "    prediction = model(x_train)\n",
    "\n",
    "    # cost 계산\n",
    "    cost = F.mse_loss(prediction, y_train) # <== 파이토치에서 제공하는 평균 제곱 오차 함수\n",
    "\n",
    "    # cost로 H(x) 개선하는 부분\n",
    "    # gradient를 0으로 초기화\n",
    "    optimizer.zero_grad()\n",
    "    # 비용 함수를 미분하여 gradient 계산\n",
    "    cost.backward() # backward 연산\n",
    "    # W와 b를 업데이트\n",
    "    optimizer.step()\n",
    "\n",
    "    if epoch % 100 == 0:\n",
    "        # 100번마다 로그 출력\n",
    "        param= list(model.parameters())\n",
    "        print('Epoch {:4d}/{} Cost: {:.6f} W:{} b:{}, Wg:{} bg:{}'.format(\n",
    "            epoch, nb_epochs, cost.item(), param[0].item(),param[1].item(),  param[0].grad.item(), param[1].grad.item()\n",
    "        ))"
   ]
  },
  {
   "cell_type": "code",
   "execution_count": 13,
   "outputs": [
    {
     "name": "stdout",
     "output_type": "stream",
     "text": [
      "훈련 후 입력이 4일 때의 예측값 : tensor([[7.9989]], grad_fn=<AddmmBackward>)\n",
      "[Parameter containing:\n",
      "tensor([[1.9994]], requires_grad=True), Parameter containing:\n",
      "tensor([0.0014], requires_grad=True)]\n"
     ]
    }
   ],
   "source": [
    "# 임의의 입력 4를 선언\n",
    "new_var =  torch.FloatTensor([[4.0]])\n",
    "# 입력한 값 4에 대해서 예측값 y를 리턴받아서 pred_y에 저장\n",
    "pred_y = model(new_var) # forward 연산\n",
    "# y = 2x 이므로 입력이 4라면 y가 8에 가까운 값이 나와야 제대로 학습이 된 것\n",
    "print(\"훈련 후 입력이 4일 때의 예측값 :\", pred_y)\n",
    "\n",
    "print(list(model.parameters()))"
   ],
   "metadata": {
    "collapsed": false,
    "pycharm": {
     "name": "#%%\n"
    }
   }
  },
  {
   "cell_type": "code",
   "execution_count": 14,
   "outputs": [
    {
     "name": "stdout",
     "output_type": "stream",
     "text": [
      "[Parameter containing:\n",
      "tensor([[ 0.2975, -0.2548, -0.1119]], requires_grad=True), Parameter containing:\n",
      "tensor([0.2710], requires_grad=True)]\n",
      "Epoch    0/2000 Cost: 31667.599609\n",
      "Epoch  100/2000 Cost: 0.225993\n",
      "Epoch  200/2000 Cost: 0.223911\n",
      "Epoch  300/2000 Cost: 0.221941\n",
      "Epoch  400/2000 Cost: 0.220059\n",
      "Epoch  500/2000 Cost: 0.218271\n",
      "Epoch  600/2000 Cost: 0.216575\n",
      "Epoch  700/2000 Cost: 0.214950\n",
      "Epoch  800/2000 Cost: 0.213413\n",
      "Epoch  900/2000 Cost: 0.211952\n",
      "Epoch 1000/2000 Cost: 0.210559\n",
      "Epoch 1100/2000 Cost: 0.209230\n",
      "Epoch 1200/2000 Cost: 0.207967\n",
      "Epoch 1300/2000 Cost: 0.206762\n",
      "Epoch 1400/2000 Cost: 0.205618\n",
      "Epoch 1500/2000 Cost: 0.204529\n",
      "Epoch 1600/2000 Cost: 0.203481\n",
      "Epoch 1700/2000 Cost: 0.202486\n",
      "Epoch 1800/2000 Cost: 0.201539\n",
      "Epoch 1900/2000 Cost: 0.200634\n",
      "Epoch 2000/2000 Cost: 0.199770\n"
     ]
    }
   ],
   "source": [
    "#2. 다중 선형 회귀 구현하기\n",
    "import torch\n",
    "import torch.nn as nn\n",
    "import torch.nn.functional as F\n",
    "torch.manual_seed(1)\n",
    "# 데이터\n",
    "x_train = torch.FloatTensor([[73, 80, 75],\n",
    "                             [93, 88, 93],\n",
    "                             [89, 91, 90],\n",
    "                             [96, 98, 100],\n",
    "                             [73, 66, 70]])\n",
    "y_train = torch.FloatTensor([[152], [185], [180], [196], [142]])\n",
    "\n",
    "# 모델을 선언 및 초기화. 다중 선형 회귀이므로 input_dim=3, output_dim=1.\n",
    "model = nn.Linear(3,1)\n",
    "\n",
    "print(list(model.parameters()))\n",
    "\n",
    "optimizer = torch.optim.SGD(model.parameters(), lr=1e-5)\n",
    "nb_epochs = 2000\n",
    "for epoch in range(nb_epochs+1):\n",
    "\n",
    "    # H(x) 계산\n",
    "    prediction = model(x_train)\n",
    "    # model(x_train)은 model.forward(x_train)와 동일함.\n",
    "\n",
    "    # cost 계산\n",
    "    cost = F.mse_loss(prediction, y_train) # <== 파이토치에서 제공하는 평균 제곱 오차 함수\n",
    "\n",
    "    # cost로 H(x) 개선하는 부분\n",
    "    # gradient를 0으로 초기화\n",
    "    optimizer.zero_grad()\n",
    "    # 비용 함수를 미분하여 gradient 계산\n",
    "    cost.backward()\n",
    "    # W와 b를 업데이트\n",
    "    optimizer.step()\n",
    "\n",
    "    if epoch % 100 == 0:\n",
    "        # 100번마다 로그 출력\n",
    "        print('Epoch {:4d}/{} Cost: {:.6f}'.format(\n",
    "            epoch, nb_epochs, cost.item()\n",
    "        ))"
   ],
   "metadata": {
    "collapsed": false,
    "pycharm": {
     "name": "#%%\n"
    }
   }
  },
  {
   "cell_type": "code",
   "execution_count": 16,
   "outputs": [
    {
     "name": "stdout",
     "output_type": "stream",
     "text": [
      "훈련 후 입력이 73, 80, 75일 때의 예측값 : tensor([[151.2306]], grad_fn=<AddmmBackward>)\n",
      "[Parameter containing:\n",
      "tensor([[0.9778, 0.4539, 0.5768]], requires_grad=True), Parameter containing:\n",
      "tensor([0.2802], requires_grad=True)]\n"
     ]
    }
   ],
   "source": [
    "# 임의의 입력 [73, 80, 75]를 선언\n",
    "new_var =  torch.FloatTensor([[73, 80, 75]])\n",
    "# 입력한 값 [73, 80, 75]에 대해서 예측값 y를 리턴받아서 pred_y에 저장\n",
    "pred_y = model(new_var)\n",
    "print(\"훈련 후 입력이 73, 80, 75일 때의 예측값 :\", pred_y)\n",
    "print(list(model.parameters()))"
   ],
   "metadata": {
    "collapsed": false,
    "pycharm": {
     "name": "#%%\n"
    }
   }
  }
 ],
 "metadata": {
  "kernelspec": {
   "name": "pycharm-8b08f4db",
   "language": "python",
   "display_name": "PyCharm (torch04)"
  },
  "language_info": {
   "codemirror_mode": {
    "name": "ipython",
    "version": 2
   },
   "file_extension": ".py",
   "mimetype": "text/x-python",
   "name": "python",
   "nbconvert_exporter": "python",
   "pygments_lexer": "ipython2",
   "version": "2.7.6"
  }
 },
 "nbformat": 4,
 "nbformat_minor": 0
}