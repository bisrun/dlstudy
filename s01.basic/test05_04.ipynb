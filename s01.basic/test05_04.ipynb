{
 "cells": [
  {
   "cell_type": "code",
   "execution_count": 4,
   "metadata": {
    "collapsed": true
   },
   "outputs": [],
   "source": [
    "#지금 code-block 다른 곳에서도 공통으로 사용된다.\n",
    "#   1. 소프트맥스 회귀 구현하기(로우-레벨)\n",
    "#   2. 소프트맥스 회귀 구현하기(하이-레벨)\n",
    "#   3. 소프트맥스 회귀 nn.Module로 구현하기\n",
    "import torch\n",
    "import torch.nn as nn\n",
    "import torch.nn.functional as F\n",
    "import torch.optim as optim\n",
    "torch.manual_seed(1)\n",
    "\n",
    "\n",
    "x_train = [[1, 2, 1, 1],\n",
    "           [2, 1, 3, 2],\n",
    "           [3, 1, 3, 4],\n",
    "           [4, 1, 5, 5],\n",
    "           [1, 7, 5, 5],\n",
    "           [1, 2, 5, 6],\n",
    "           [1, 6, 6, 6],\n",
    "           [1, 7, 7, 7]]\n",
    "y_train = [2, 2, 2, 1, 1, 1, 0, 0]\n",
    "x_train = torch.FloatTensor(x_train)\n",
    "y_train = torch.LongTensor(y_train)"
   ]
  },
  {
   "cell_type": "code",
   "execution_count": 5,
   "outputs": [
    {
     "name": "stdout",
     "output_type": "stream",
     "text": [
      "torch.Size([8, 4])\n",
      "torch.Size([8])\n",
      "torch.Size([8, 3])\n"
     ]
    }
   ],
   "source": [
    "# 1. 소프트맥스 회귀 구현하기(로우-레벨)\n",
    "print(x_train.shape)\n",
    "print(y_train.shape)\n",
    "\n",
    "y_one_hot = torch.zeros(8,3)\n",
    "y_one_hot.scatter_(1, y_train.unsqueeze(1), 1)\n",
    "print(y_one_hot.shape)\n",
    "\n",
    "#모델 초기화\n",
    "W= torch.zeros((4,3), requires_grad=True)\n",
    "b = torch.zeros(1, requires_grad=True)\n",
    "#optimizer\n",
    "optimizer = optim.SGD([W,b], lr=0.1)\n",
    "\n"
   ],
   "metadata": {
    "collapsed": false,
    "pycharm": {
     "name": "#%%\n"
    }
   }
  },
  {
   "cell_type": "code",
   "execution_count": 6,
   "outputs": [
    {
     "name": "stdout",
     "output_type": "stream",
     "text": [
      "Epoch    0/1000 cost: 1.098612\n",
      "Epoch  100/1000 cost: 0.761050\n",
      "Epoch  200/1000 cost: 0.689991\n",
      "Epoch  300/1000 cost: 0.643229\n",
      "Epoch  400/1000 cost: 0.604117\n",
      "Epoch  500/1000 cost: 0.568255\n",
      "Epoch  600/1000 cost: 0.533922\n",
      "Epoch  700/1000 cost: 0.500291\n",
      "Epoch  800/1000 cost: 0.466908\n",
      "Epoch  900/1000 cost: 0.433507\n",
      "Epoch 1000/1000 cost: 0.399962\n"
     ]
    }
   ],
   "source": [
    "nb_epochs = 1000\n",
    "for epoch in range(1+ nb_epochs):\n",
    "    #hypothesis\n",
    "    hypotheis = F.softmax(x_train.matmul(W)+b, dim=1)\n",
    "\n",
    "    #cost\n",
    "    cost = (y_one_hot * -torch.log(hypotheis)).sum(dim=1).mean()\n",
    "\n",
    "    #cost로 H(x) 개선\n",
    "    optimizer.zero_grad()\n",
    "    cost.backward()\n",
    "    optimizer.step()\n",
    "\n",
    "    # print\n",
    "    if epoch % 100 == 0 :\n",
    "        print(\"Epoch {:4d}/{} cost: {:.6f}\".format(\n",
    "            epoch, nb_epochs, cost.item()\n",
    "        ))\n",
    "\n"
   ],
   "metadata": {
    "collapsed": false,
    "pycharm": {
     "name": "#%%\n"
    }
   }
  },
  {
   "cell_type": "code",
   "execution_count": 9,
   "outputs": [
    {
     "name": "stdout",
     "output_type": "stream",
     "text": [
      "epoch  100/1000 cost:0.714269\n",
      "epoch  200/1000 cost:0.638430\n",
      "epoch  300/1000 cost:0.591185\n",
      "epoch  400/1000 cost:0.554105\n",
      "epoch  500/1000 cost:0.522028\n",
      "epoch  600/1000 cost:0.492791\n",
      "epoch  700/1000 cost:0.465232\n",
      "epoch  800/1000 cost:0.438588\n",
      "epoch  900/1000 cost:0.412274\n"
     ]
    }
   ],
   "source": [
    "#2. 소프트맥스 회귀 구현하기(하이-레벨)\n",
    "W= torch.zeros((4,3),requires_grad=True)\n",
    "b= torch.zeros((1,), requires_grad=True)\n",
    "\n",
    "optimizer = optim.SGD([W,b],lr=0.1)\n",
    "\n",
    "nb_epochs = 1000\n",
    "for epoch in range(1, nb_epochs):\n",
    "    #cost\n",
    "    z = x_train.matmul(W)+b\n",
    "    cost = F.cross_entropy(z, y_train)\n",
    "\n",
    "    #cost 로 H(x)개선\n",
    "    optimizer.zero_grad()\n",
    "    cost.backward()\n",
    "    optimizer.step()\n",
    "\n",
    "    if epoch % 100 == 0 :\n",
    "        print(\"epoch {:4d}/{} cost:{:.6f}\".format(\n",
    "            epoch, nb_epochs, cost.item()\n",
    "        ))\n",
    "\n"
   ],
   "metadata": {
    "collapsed": false,
    "pycharm": {
     "name": "#%%\n"
    }
   }
  },
  {
   "cell_type": "code",
   "execution_count": 10,
   "outputs": [
    {
     "name": "stdout",
     "output_type": "stream",
     "text": [
      "epoch  100/1000, cost=0.708336\n",
      "epoch  200/1000, cost=0.626136\n",
      "epoch  300/1000, cost=0.569849\n",
      "epoch  400/1000, cost=0.520366\n",
      "epoch  500/1000, cost=0.473517\n",
      "epoch  600/1000, cost=0.427770\n",
      "epoch  700/1000, cost=0.382397\n",
      "epoch  800/1000, cost=0.337085\n",
      "epoch  900/1000, cost=0.292189\n"
     ]
    }
   ],
   "source": [
    "#3. 소프트맥스 회귀 nn.Module로 구현하기\n",
    "\n",
    "#model선언 및 초기화, 4개의 특성을 가짐, 3개의 클래스로 분류, input_dim=4 , output_dim=3\n",
    "model = nn.Linear(4,3)\n",
    "\n",
    "#F.cross_entropy를 사용할 것이므로 별도로 softmax함수를 가설에 사용하지 않음\n",
    "\n",
    "#optimize 설정\n",
    "optimizer = optim.SGD(model.parameters(), lr=0.1)\n",
    "nb_epochs =1000\n",
    "for epoch in range(1, nb_epochs):\n",
    "    #hypothesis\n",
    "    prediction = model(x_train)\n",
    "    cost = F.cross_entropy(prediction, y_train)\n",
    "\n",
    "    optimizer.zero_grad()\n",
    "    cost.backward()\n",
    "    optimizer.step()\n",
    "\n",
    "    if epoch % 100 == 0 :\n",
    "        print(\"epoch {:4d}/{}, cost={:.6f}\".format(\n",
    "            epoch, nb_epochs, cost.item()\n",
    "        ))\n",
    "\n",
    "\n"
   ],
   "metadata": {
    "collapsed": false,
    "pycharm": {
     "name": "#%%\n"
    }
   }
  },
  {
   "cell_type": "code",
   "execution_count": 11,
   "outputs": [
    {
     "name": "stdout",
     "output_type": "stream",
     "text": [
      "epoch  100/1000, cost=0.672336\n",
      "epoch  200/1000, cost=0.579387\n",
      "epoch  300/1000, cost=0.521830\n",
      "epoch  400/1000, cost=0.475932\n",
      "epoch  500/1000, cost=0.435603\n",
      "epoch  600/1000, cost=0.398256\n",
      "epoch  700/1000, cost=0.362310\n",
      "epoch  800/1000, cost=0.326551\n",
      "epoch  900/1000, cost=0.290151\n"
     ]
    }
   ],
   "source": [
    "class SoftmaxClassifierModel(nn.Module):\n",
    "    def __init__(self):\n",
    "        super().__init__()\n",
    "        self.linear = nn.Linear(4,3)\n",
    "    def forward(self,x):\n",
    "        return self.linear(x)\n",
    "\n",
    "model = SoftmaxClassifierModel()\n",
    "\n",
    "#optimizer 설정\n",
    "optimizer = optim.SGD(model.parameters(), lr=0.1)\n",
    "\n",
    "nb_epochs =1000\n",
    "for epoch in range(1, nb_epochs):\n",
    "    prediction = model(x_train)\n",
    "\n",
    "    cost = F.cross_entropy(prediction, y_train)\n",
    "\n",
    "    optimizer.zero_grad()\n",
    "    cost.backward()\n",
    "    optimizer.step()\n",
    "\n",
    "    if epoch % 100 == 0 :\n",
    "        print(\"epoch {:4d}/{}, cost={:.6f}\".format(\n",
    "            epoch, nb_epochs, cost.item()\n",
    "        ))\n",
    "\n"
   ],
   "metadata": {
    "collapsed": false,
    "pycharm": {
     "name": "#%%\n"
    }
   }
  }
 ],
 "metadata": {
  "kernelspec": {
   "name": "pycharm-8b08f4db",
   "language": "python",
   "display_name": "PyCharm (torch04)"
  },
  "language_info": {
   "codemirror_mode": {
    "name": "ipython",
    "version": 2
   },
   "file_extension": ".py",
   "mimetype": "text/x-python",
   "name": "python",
   "nbconvert_exporter": "python",
   "pygments_lexer": "ipython2",
   "version": "2.7.6"
  }
 },
 "nbformat": 4,
 "nbformat_minor": 0
}